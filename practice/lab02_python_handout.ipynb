{
 "cells": [
  {
   "cell_type": "markdown",
   "metadata": {},
   "source": [
    "&copy; 2016 Roberts Lab @ Johns Hopkins University, eroberts@jhu.edu. This work is licensed under a <a rel=\"license\" href=\"http://creativecommons.org/licenses/by-sa/4.0/\">Creative Commons Attribution-ShareAlike 4.0 International License</a>. <a rel=\"license\" href=\"http://creativecommons.org/licenses/by-sa/4.0/\"><img alt=\"Creative Commons License\" style=\"border-width:0\" src=\"https://i.creativecommons.org/l/by-sa/4.0/88x31.png\" /></a>\n",
    "***"
   ]
  },
  {
   "cell_type": "markdown",
   "metadata": {},
   "source": [
    "# Lab 2\n",
    "# AS.250.313 Fall 2016"
   ]
  },
  {
   "cell_type": "markdown",
   "metadata": {},
   "source": [
    "## Lab assignment\n",
    "In this lab you will construct a model of a simple gene regulatory network and study the properties of the network using numerical simulation of the ODEs."
   ]
  },
  {
   "cell_type": "markdown",
   "metadata": {},
   "source": [
    "### Introduction to the lac circuit\n",
    "The lactose utilization system in Escherichia coli is a model system for studying inducible genetic circuits. The overall genetic system is described in Figure 1. Briefly, the lac repressor (LacI; R in model annotation) binds to the lac operator (O in model annotation) upstream of the DNA encoding for the genes responsible for lactose uptake and metabolism, repressing their expression in the absence of lactose. In the presence of lactose or another inducer (I in model annotation), LacI binds the inducer preferentially and is prevented from binding to the operator region allowing expression of the proteins in the lac operon. One protein in the operon, lactose permease (LacY; Y in model annotation), establishes positive feedback in the circuit by inserting into the membrane and actively transporting lactose into the cell, ensuring that LacI remains sequestered; the cell switches to the induced state.\n",
    "A schematic diagram of the circuit is shown in Figure 2 and the mass action equations necessary to mathematically model the system are shown in Table 1."
   ]
  },
  {
   "cell_type": "markdown",
   "metadata": {},
   "source": [
    "![Figure 1: Overview of the lac genetic circuit in E. coli.](figures/fig_1.png)\n",
    "\n",
    "**Figure 1**: Overview of the lac genetic circuit in E. coli. (A) In the absence of inducer, the lac repressor (LacI) binds to the lac operator preventing transcription of genes in the lac operon. (B) Following an increase in the extracellular inducer concentration, inducer enters the cell via both diffusion across the membrane and active transport by lactose permease (LacY). Once inside, inducer binds free LacI molecules preventing them from binding to the operator. (C) After the intracellular inducer concentration reaches a threshold, any bound repressor is ‘‘knocked-off’’ the operator leading to expression of the lac genes. (D) At high intracellular inducer concentrations the genes for lactose metabolism are fully induced. (E) After inducer is removed, repressor rebinds to the operator preventing further expression of the lac operon and the enzymes for lactose metabolism are either degraded or diluted through cellular division."
   ]
  },
  {
   "cell_type": "markdown",
   "metadata": {},
   "source": [
    "![Figure 2: Inducible genetic switch](figures/fig_2.png)\n",
    "\n",
    "**Figure 2**: Inducible genetic switch in which an inducer both controls the rate of switching between active and inactive transcription states and is also positively regulated by the protein product – a positive feedback loop (PFB). The gray dotted connection indicates a weak effect of the inducer in promoting the unbinding of repressor at high inducer concentrations."
   ]
  },
  {
   "cell_type": "markdown",
   "metadata": {},
   "source": [
    "**Table 1**: Reactions and rate constants for a model of the lac circuit\n",
    "\n",
    "![Table 1: Reactions and rate constants for a model of the lac circuit](figures/table_1.png)"
   ]
  },
  {
   "cell_type": "markdown",
   "metadata": {},
   "source": [
    "## Problem 1\n",
    "A key interaction in the model is between the lac repressor and the inducer molecules. Here we will analyze the cooperativity of these interactions. Using Equations 11,12,15,16, write a script to solve the time dependent concentration of the species ${R}_{2}$, ${IR}_{2}$, and ${I}_{2}{R}_{2}$. You can assume that $[I]$ will always be in great excess and doesn’t change from its initial value.\n",
    "\n",
    "a) An *E. coli* cell is initially growing in medium with no inducer. At time $t=0$ the cell is moved to a medium with $10\\;μM$ IPTG. Calculate the mean (deterministic) response of the repressors dimers in the cell over the next 100 seconds. Assume that there are typically 20 repressor dimers per *E. coli* cell, which has a mean volume of $1\\;{μm}^{3}$ or $1\\;fL$ (femtoliter). Plot $[{R}_{2}]$, $[{IR}_{2}]$, and $[{I}_{2}{R}_{2}]$ as a function of time.\n",
    "\n",
    "b) What is the equilibrium faction of repressor dimers that are bound with least one inducer?\n",
    "\n",
    "c) Calculate the equilibrium fraction of repressors bound with least one inducer for a range of inducer concentrations from $1e-8$ to $1e-4\\;M$. Plot fraction bound versus $[I]$ on a plot with a log scaled x-axis (if you don't know how, look up the `set_xscale` function in the `matplotlib` docs).\n",
    "\n",
    "d) Fit the plot in (c) to a Hill function (Hint: lookup the curve_fit function in the scipy.optimize pacakge). What is the Hill exponent and the $[I]$ where ½ of the repressors are bound with at least one inducer?"
   ]
  },
  {
   "cell_type": "code",
   "execution_count": null,
   "metadata": {
    "collapsed": true
   },
   "outputs": [],
   "source": []
  },
  {
   "cell_type": "markdown",
   "metadata": {},
   "source": [
    "## Problem 2\n",
    "Now we will begin to look at gene expression. Using Equations 1,4,7,8,9,10, write a script to solve the time dependent concentration of ${R}_{2}$, $O$, ${R}_{2}O$, $mY$, and $Y$. We’ll leave out the inducer interactions, since they make the equations significantly more complicated. This is equivalent to only modeling the system in the absence of inducer.\n",
    "\n",
    "a) Starting with 20 repressor dimers and 1 free operator in an *E. coli* cell, run a simulation until it reaches steady state. Plot all of the concentrations versus time. How long did it take to reach equilibrium? Did all of the species reach equilibrium at the same time? If not, explain why? What is the equilibrium concentration of $mY$ and $Y$?\n",
    "\n",
    "b) Initialize another simulation using as the initial concentrations the steady state concentration of each species from (a). Add 100 more repressor dimers to the cell and run the simulation until it reaches a new steady state. Plot the concentrations. How long did it take to reach a new equilibrium? What rate do you think is limiting the approach to equilibrium?"
   ]
  },
  {
   "cell_type": "markdown",
   "metadata": {},
   "source": [
    "## Problem 3\n",
    "Finally, we will add in the inducer interactions to see how the inducer can affect gene expression levels. We will added the interactions in two different ways, first using the full kinetic model and then using the Hill model for inducer-repressor interactions from problem 1(d).\n",
    "\n",
    "a) Combine the rate equations from problems 1 and 2 into a full kinetic model. This should contain seven species ${R}_{2}$, ${IR}_{2}$, ${I}_{2}{R}_{2}$, $O$, ${R}_{2}O$, $mY$, and $Y$ reactions 1,4,7,8,9,10,11,12,15,16 from Table 1. Plot the steady state concentration of expressed protein $[Y]$ as a function of inducer concentration [I] from $1e-8$ to $1e-4\\;M$. Your plot should be on a log-log scale.\n",
    "\n",
    "b) We can try to simplify our model by replacing the inducer repressor interactions with the equilibrium value of $R_2$ from our Hill function model. Use the rate equation from problem 2 along with the Hill function from problem 1(d) to formulate such an equilibrium model. Compare the output of the equilibrium model with the results from the full simulation in 3(a). How well do the two models compare? What are the origins of any discrepencies?\n",
    "\n",
    "c) Discuss under what conditions such an equilibrium approximation should be used."
   ]
  }
 ],
 "metadata": {
  "kernelspec": {
   "display_name": "Python 2",
   "language": "python",
   "name": "python2"
  },
  "language_info": {
   "codemirror_mode": {
    "name": "ipython",
    "version": 2
   },
   "file_extension": ".py",
   "mimetype": "text/x-python",
   "name": "python",
   "nbconvert_exporter": "python",
   "pygments_lexer": "ipython2",
   "version": "2.7.13"
  }
 },
 "nbformat": 4,
 "nbformat_minor": 0
}
