{
 "cells": [
  {
   "cell_type": "code",
   "execution_count": 122,
   "metadata": {
    "collapsed": true
   },
   "outputs": [],
   "source": [
    "import numpy as np\n",
    "import matplotlib.pyplot as plt\n",
    "\n",
    "%matplotlib inline"
   ]
  },
  {
   "cell_type": "code",
   "execution_count": 3,
   "metadata": {
    "collapsed": false
   },
   "outputs": [
    {
     "name": "stdout",
     "output_type": "stream",
     "text": [
      "/home/likewise-open/WIN/npagane1/bph/gal\n",
      "/home/likewise-open/WIN/npagane1/bph/gal/data\n"
     ]
    }
   ],
   "source": [
    "# read in data\n",
    "import csv\n",
    "import os \n",
    "print os.getcwd()\n",
    "os.chdir('./data')\n",
    "print os.getcwd()\n",
    "pts = 10\n",
    "\n",
    "runs2 = {}\n",
    "with open('2dtrialsReassembly.csv') as csv_file:\n",
    "    reader = csv.reader(csv_file)\n",
    "    runs2 = dict(reader)"
   ]
  },
  {
   "cell_type": "code",
   "execution_count": 108,
   "metadata": {
    "collapsed": false
   },
   "outputs": [],
   "source": [
    "runs = {}\n",
    "for i in runs2.keys():\n",
    "    runs[i] = {}\n",
    "    tsplit = runs2[i].split(\"':\")\n",
    "    key = [float(tsplit[0].split(\"{'\")[1])]\n",
    "    dat = []\n",
    "    arr = eval(tsplit[1].split(\"], '\")[0].split(\"]]), \")[1].replace('\\n', '').replace('array(', '').replace(')', ''))\n",
    "    dat = [arr]\n",
    "    for j in range(1,len(tsplit)-1):\n",
    "        key.append(float(tsplit[j].split(\"], '\")[1]))\n",
    "        arr = eval(tsplit[j].split(\"], '\")[0].split(\"]]), \")[1].replace('\\n', '').replace('array(', '').replace(')', ''))\n",
    "        dat.append(arr)\n",
    "    for j in range(len(key)):\n",
    "        runs[i][key[j]] = [dat[j]]\n",
    "    "
   ]
  },
  {
   "cell_type": "code",
   "execution_count": 119,
   "metadata": {
    "collapsed": false
   },
   "outputs": [],
   "source": [
    "avgEVec = np.zeros([pts, pts])\n",
    "avgNVec = np.zeros([pts, pts])\n",
    "pkeys = np.sort(np.asarray(runs.keys()))\n",
    "tkeys = np.sort(np.asarray(runs[pkeys[0]].keys()))\n",
    "pVec = []\n",
    "tVec = []\n",
    "for i in range(len(pkeys)):\n",
    "    for j in range(len(tkeys)):\n",
    "        avgEVec[i, j] = np.mean(runs[pkeys[i]][tkeys[j]][0][0])\n",
    "        avgNVec[i, j] = np.mean(runs[pkeys[i]][tkeys[j]][0][1])\n",
    "        pVec.append(float(pkeys[i])); tVec.append(float(tkeys[j]))"
   ]
  },
  {
   "cell_type": "code",
   "execution_count": null,
   "metadata": {
    "collapsed": false
   },
   "outputs": [],
   "source": [
    "fig = plt.figure(figsize = (10,7))\n",
    "ax = fig.add_subplot(121)\n",
    "\n",
    "ax = fig.add_subplot(121)\n",
    "surf = ax.imshow(avgEVec.T, cmap = 'jet', origin = 'lower', aspect = 'auto',\n",
    "                extent = (pVec[0], pVec[-1], tVec[0], tVec[-1]))\n",
    "fig.colorbar(surf, shrink = 0.5)\n",
    "ax.set_title('average energy')\n",
    "ax.set_xlabel('probability of repair'); ax.set_ylabel('MCMC iterations (1e-5)')\n",
    "\n",
    "ax = fig.add_subplot(122)\n",
    "surf = ax.imshow(avgNVec.T, cmap = 'jet', origin = 'lower', aspect = 'auto',\n",
    "                extent = (pVec[0], pVec[-1], tVec[0], tVec[-1]))\n",
    "fig.colorbar(surf, shrink = 0.5)\n",
    "ax.set_title('average nuc number')\n",
    "ax.set_xlabel('probability of repair'); ax.set_ylabel('MCMC iterations (1e-5)')\n",
    "\n",
    "plt.show()"
   ]
  },
  {
   "cell_type": "code",
   "execution_count": null,
   "metadata": {
    "collapsed": true
   },
   "outputs": [],
   "source": []
  }
 ],
 "metadata": {
  "kernelspec": {
   "display_name": "Python 2",
   "language": "python",
   "name": "python2"
  },
  "language_info": {
   "codemirror_mode": {
    "name": "ipython",
    "version": 2
   },
   "file_extension": ".py",
   "mimetype": "text/x-python",
   "name": "python",
   "nbconvert_exporter": "python",
   "pygments_lexer": "ipython2",
   "version": "2.7.3"
  }
 },
 "nbformat": 4,
 "nbformat_minor": 0
}
