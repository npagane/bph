{
 "cells": [
  {
   "cell_type": "markdown",
   "metadata": {},
   "source": [
    "# ODE model for GAL switch in yeast\n",
    "#### nicole pagane | 091918 | roberts lab"
   ]
  },
  {
   "cell_type": "code",
   "execution_count": 3,
   "metadata": {
    "collapsed": false
   },
   "outputs": [
    {
     "name": "stderr",
     "output_type": "stream",
     "text": [
      "/usr/local/lib/python2.7/dist-packages/scipy/__init__.py:111: UserWarning: Numpy 1.6.2 or above is recommended for this version of scipy (detected version 1.6.1)\n",
      "  UserWarning)\n"
     ]
    }
   ],
   "source": [
    "import scipy.integrate as snt\n",
    "from scipy.optimize import leastsq\n",
    "import matplotlib.pyplot as plt\n",
    "import numpy as np\n",
    "pass"
   ]
  },
  {
   "cell_type": "code",
   "execution_count": 4,
   "metadata": {
    "collapsed": false
   },
   "outputs": [
    {
     "data": {
      "application/javascript": [
       "IPython.OutputArea.auto_scroll_threshold = 9999;"
      ],
      "text/plain": [
       "<IPython.core.display.Javascript object>"
      ]
     },
     "metadata": {},
     "output_type": "display_data"
    }
   ],
   "source": [
    "%%javascript\n",
    "IPython.OutputArea.auto_scroll_threshold = 9999;"
   ]
  },
  {
   "cell_type": "markdown",
   "metadata": {},
   "source": [
    "## reactions and parameters\n",
    "This is a simple model of the GAL switch in yeast.<br>\n",
    "Terms to add/develop into model:<br>\n",
    "<ul>\n",
    "    <li>G2p (galactose transporter)</li>\n",
    "    <li>G1p's functionality for signal transduction and only utilize it to metabolize galactose</li>\n",
    "    <li>ES-complex formation to metabolize galactose and resultant high levels of G1p throughout</li>\n",
    "    <li>kinetics of transcription and translation (assumed to be proportional to the effects of upstream regulation)</li>\n",
    "    <li>RNA Polymerase II elongation rate on a GAL promoter driven gene = 2kb/min</li>\n",
    " </ul>\n"
   ]
  },
  {
   "cell_type": "code",
   "execution_count": 16,
   "metadata": {
    "collapsed": false
   },
   "outputs": [],
   "source": [
    "# reactions \n",
    "# gal + G3p -> G3p-gal (kgalon)\n",
    "# G3p-gal -> gal + G3p (kgaloff)\n",
    "# G3p-gal + G80p -> G3p-gal-G80p (kg80on)\n",
    "# G3p-gal-G80p -> G3p-gal + G80p (kg80off)\n",
    "# G80p + UASg -> G80p-UASg (kinon)\n",
    "# G80p-UASg -> G80p + UASg (kinoff)\n",
    "# G4p + UASg -> G4p-UASg (kacon)\n",
    "# G4p-UASg -> G4p + UASg (kacoff)\n",
    "# G4p-UASg -> G1p + G4p-UASg (kg1)\n",
    "# G4p-UASg -> G3p + G4p-UASg (kg3)\n",
    "# G4p-UASg -> G80p + G4p-UASg (kg80)\n",
    "# G1p + gal -> G1p (kgalcat)\n",
    "\n",
    "# rate constants\n",
    "# these rates were taken from (Bianchi 2018)\n",
    "kgalon = 1 \n",
    "kgaloff = 1 \n",
    "kg80on = 1 \n",
    "kg80off = 1\n",
    "kinon = 1\n",
    "kinoff = 1\n",
    "kacon = 1\n",
    "kacoff = 1\n",
    "kg1 = 1\n",
    "kg3 = 1\n",
    "kg80 = 1\n",
    "kgalcat = 1 \n",
    "\n",
    "# initial concentrations\n",
    "gal0 = 1e-5\n",
    "G1p0 = 0.25e-6 # assume to be the same as G3p0 for now\n",
    "G3p0 = 0.25e-6\n",
    "G4p0 = 0.005e-6\n",
    "G80p0 = 0.05e-6\n",
    "UASg0 = 0 # assume completely repressed\n",
    "G3pGal0 = 0 \n",
    "G3pGalG80p0 = 0\n",
    "G80pUASg0 = 1e-7 # assume completely repressed\n",
    "G4pUASg0 = 0 # assume completely repressed\n",
    "\n",
    "# reactions \n",
    "# gal + G3p -> G3p-gal (kgalon)\n",
    "# G3p-gal -> gal + G3p (kgaloff)\n",
    "# G3p-gal + G80p -> G3p-gal-G80p (kg80on)\n",
    "# G3p-gal-G80p -> G3p-gal + G80p (kg80off)\n",
    "# G80p + UASg -> G80p-UASg (kinon)\n",
    "# G80p-UASg -> G80p + UASg (kinoff)\n",
    "# G4p + UASg -> G4p-UASg (kacon)\n",
    "# G4p-UASg -> G4p + UASg (kacoff)\n",
    "# G4p-UASg -> G1p + G4p-UASg (kg1)\n",
    "# G4p-UASg -> G3p + G4p-UASg (kg3)\n",
    "# G4p-UASg -> G80p + G4p-UASg (kg80)\n",
    "# G1p + gal -> G1p (kgalcat)\n",
    "\n",
    "\n",
    "# species conservation\n",
    "# UASg = G80p-UASg0 - G80p-UASg - G4p-UASg \n",
    "\n",
    "# define reaction rates function\n",
    "#where spec[0] = gal, spec[1] = G1p, spec[2] = G3p, spec[3] = G4p\n",
    "#      spec[4] = G80p, spec[5] = G3p-gal, spec[6] = G3p-gal-G80p,\n",
    "#      spec[7] = G80p-UASg, spec[8] = G4p-UASg\n",
    "def rates(spec, t):\n",
    "    return np.asarray([\n",
    "        -kgalon*spec[0]*spec[2] + kgaloff*spec[5] - kgalcat*spec[1]*spec[0], # dgal/dt\n",
    "        kg1*spec[8], # dG1p/dt\n",
    "        -kgalon*spec[0]*spec[1] + kgaloff*spec[5] + kg3*spec[8], # dG3p/dt\n",
    "        -kacon*spec[3]*(G80pUASg0 - spec[7] - spec[8]) + kacoff*spec[8], # dG4p/dt\n",
    "        -kg80on*spec[5]*spec[4] + kg80off*spec[6] - kinon*spec[5]*(G80pUASg0 - spec[7] - spec[8]) + kinoff*spec[7] + kg80*spec[8], # dG80p/dt\n",
    "        kgalon*spec[0]*spec[1] - kgaloff*spec[5] - kg80on*spec[5]*spec[4] + kg80off*spec[6], # dG3pGal/dt\n",
    "        kg80on*spec[4]*spec[5] - kg80off*spec[6], # dG3pGalG80/dt\n",
    "        kinon*spec[5]*(G80pUASg0 - spec[7] - spec[8]) - kinoff*spec[7], # G80pUASg/dt\n",
    "        kacon*spec[3]*(G80pUASg0 - spec[7] - spec[8]) - kacoff*spec[8]# G4pUASg/dt\n",
    "    ])\n"
   ]
  },
  {
   "cell_type": "code",
   "execution_count": 19,
   "metadata": {
    "collapsed": false
   },
   "outputs": [],
   "source": [
    "fig = plt.figure(figsize = (40,10))\n",
    "\n",
    "# solve the DE numerically\n",
    "t = np.linspace(0,100, 1000)\n",
    "spec0 = (gal0, G1p0, G3p0, G4p0, G80p0, G3pGal0, G3pGalG80p0,G80pUASg0,G4pUASg0)\n",
    "ode = snt.odeint(rates, spec0, t, hmax=1e-5)\n",
    "\n",
    "# plot the numerical solution\n",
    "specs = ['gal', 'G1p', 'G3p', 'G4p', 'G80p', 'G3p-gal', 'G3p-gal-G80p', 'G80p-UASg', 'G4p-UASg']\n",
    "#plot ligand \n",
    "for i in range(np.shape(ode)[1]):\n",
    "    ax = fig.add_subplot(2,np.shape(ode)[1] + 1, i + 1)\n",
    "    ax.plot(t, ode[:, i], linewidth = 4)\n",
    "    ax.set_title(specs[i])\n",
    "    ax.set_ylabel('[' + specs[i] + '] (M)')\n",
    "    ax.set_xlabel('time (s)')\n",
    "\n",
    "plt.show()"
   ]
  },
  {
   "cell_type": "code",
   "execution_count": 22,
   "metadata": {
    "collapsed": false
   },
   "outputs": [
    {
     "name": "stdout",
     "output_type": "stream",
     "text": [
      "done\n"
     ]
    }
   ],
   "source": [
    "# reaction rate dependence on susbstrate concentration simulations\n",
    "Srange = np.linspace(S0/10, S0*500, 50)\n",
    "data2 = {}\n",
    "for i in range(len(Srange)):\n",
    "    spec0 = (Srange[i], ES0, P0, ESS0)\n",
    "    ode = snt.odeint(rates, spec0, t, hmax=1e-5)\n",
    "    data2[Srange[i]] = ode\n",
    "print 'done'"
   ]
  },
  {
   "cell_type": "code",
   "execution_count": 23,
   "metadata": {
    "collapsed": false
   },
   "outputs": [
    {
     "data": {
      "image/png": "[encoded data removed]",
      "text/plain": [
       "<matplotlib.figure.Figure at 0x11b6cc3d0>"
      ]
     },
     "metadata": {},
     "output_type": "display_data"
    }
   ],
   "source": [
    "fig = plt.figure(figsize=(10,5))\n",
    "# plot the data\n",
    "\n",
    "S = []\n",
    "V = []\n",
    "for i in data2:\n",
    "    dP = np.diff(data2[i][:,2])\n",
    "    dt = np.diff(t)\n",
    "    dPdt = np.mean(dP/dt)\n",
    "    S.append(i)\n",
    "    V.append(dPdt)\n",
    "\n",
    "plt.plot(S, V, 'o')\n",
    "plt.xlabel('[S] (M)')\n",
    "plt.ylabel('V (M/s)')\n",
    "plt.title('reaction rate dependence on [S]')\n",
    "\n",
    "plt.show()"
   ]
  },
  {
   "cell_type": "code",
   "execution_count": null,
   "metadata": {
    "collapsed": true
   },
   "outputs": [],
   "source": []
  }
 ],
 "metadata": {
  "kernelspec": {
   "display_name": "Python 2",
   "language": "python",
   "name": "python2"
  },
  "language_info": {
   "codemirror_mode": {
    "name": "ipython",
    "version": 2
   },
   "file_extension": ".py",
   "mimetype": "text/x-python",
   "name": "python",
   "nbconvert_exporter": "python",
   "pygments_lexer": "ipython2",
   "version": "2.7.3"
  }
 },
 "nbformat": 4,
 "nbformat_minor": 0
}
