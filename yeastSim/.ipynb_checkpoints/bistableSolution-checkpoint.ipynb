{
 "cells": [
  {
   "cell_type": "markdown",
   "metadata": {},
   "source": [
    "## Bistable Solution as found in 2016 paper by Sharma and Roberts"
   ]
  },
  {
   "cell_type": "code",
   "execution_count": 5,
   "metadata": {
    "collapsed": false
   },
   "outputs": [
    {
     "name": "stdout",
     "output_type": "stream",
     "text": [
      "Once deleted, variables cannot be recovered. Proceed (y/[n])? y\n"
     ]
    }
   ],
   "source": [
    "# import modules\n",
    "%reset\n",
    "import numpy as np\n",
    "import matplotlib.pyplot as plt\n",
    "import random\n",
    "import scipy.integrate as snt\n",
    "from decimal import Decimal\n",
    "from matplotlib.colors import LogNorm"
   ]
  },
  {
   "cell_type": "code",
   "execution_count": 6,
   "metadata": {
    "collapsed": false
   },
   "outputs": [],
   "source": [
    "## define constants and model (using model 2 as described in Sharma & Roberts paper)\n",
    "\n",
    "## SPECIES\n",
    "    # R (receptor on cell surface)\n",
    "    # L (ligand ~alpha factor)\n",
    "    # RL (receptor-ligand complex)\n",
    "    # K (kinase in MAPK pathway to propogate signal)\n",
    "    # Kp (singly phosphorylated kinase)\n",
    "    # Kpp (doubly phosphorylated kinase)\n",
    "    # P (phosphatase to remove phosphates from kinases)\n",
    "# mass balance laws:\n",
    "    # Ktot = K + Kp + Kpp\n",
    "    \n",
    "## REACTIONS\n",
    "    # RL -> R + L                c5\n",
    "    # K + K -> K + Kp           2c1\n",
    "    # Kp + K -> Kp + Kp         2c2\n",
    "    # P + Kp -> P + K            c0\n",
    "    # R + L -> RL                c4\n",
    "    # RL + K -> RL + Kp          c6\n",
    "    # K + Kp -> K + Kpp          c1\n",
    "    # Kp + Kp -> Kp + Kpp        c2\n",
    "    # Kpp + K -> Kpp + Kp       2c3\n",
    "    # Kpp + Kp -> Kpp + Kpp      c3\n",
    "    # P + Kpp -> P + Kp         2c0\n",
    "\n",
    "## KINETIC RATE LAWS\n",
    "    # dK/dt   = -c0*S*K - 2*c1*K**2 - 2*c2*K*Kp - 2*c3*K*Kpp + c4*Kp*P\n",
    "    # dKp/dt  = c0*S*K + 2*c1*K**2 + 2*c2*Kp*K - c2*Kp**2 - c3*Kp*Kpp + 2*c3*Kpp*K + 2*c4*Kpp*P - c4*Kp*P\n",
    "    # dKpp/dt = c2*Kp**2 + c3*Kpp*Kp - 2*c4*Kpp*P\n",
    "\n",
    "# DEFINE CONSTANTS\n",
    "Ktot = 1\n",
    "P = 0.25\n",
    "R0 = 1.6;\n",
    "L0 = 4;\n",
    "\n",
    "    \n",
    "## DEFINE RATES THAT ARE NOT BEING VARIED\n",
    "c0 = 5\n",
    "# c1 can vary\n",
    "# c2 can vary\n",
    "c3 = 5\n",
    "c4 = 10\n",
    "c5 = 10\n",
    "c6 = 0.1\n",
    "\n",
    "## DEFINE RANGE AT WHICH OTHER RATES MAY VARY\n",
    "n = 20\n",
    "rateRange = np.linspace(1e-2, 100, n)\n",
    "\n",
    "## reaction matrix (to make defining the ODEs easier)\n",
    "    #        K*K       Kp*K      P*Kp  RL*K    Kp*Kp    Kpp*Kp    Kpp*K       P*Kpp\n",
    "    # dK    -2*c1     -2*c2       c0   -c6       0        0      -2*c3          0\n",
    "    # dKp    2*c1   -c1 + 2*c2   -c0    c6     -c2       -c3      2*c3         2*c0\n",
    "    # dKpp    0         c1         0     0      c2        c3       0          -2*c0       \n",
    "\n",
    "    \n",
    "## define ODEs, don't need reaction rates c4 or c5 (used in determination of RLss)\n",
    "#  st y = [K, Kp, Kpp]\n",
    "def rates(y, t, c0, c1, c2, c3, c6, RL, P):\n",
    "    return np.asarray([-2*c1*y[0]**2 -2*c2*y[1]*y[0] + c0*y[1]*P -c6*RL*y[0] -2*c3*y[2]*y[0],\n",
    "                       2*c1*y[0]**2 + (-c1 + 2*c2)*y[1]*y[0] -c0*P*y[0] + c6*RL*y[0] -c2*y[1]**2 -c3*y[2]*y[1] + 2*c3*y[2]*y[0] + 2*c0*P*y[2],\n",
    "                       c1*y[1]*y[0] + c2*y[1]**2  + c3*y[2]*y[1] -2*c0*P*y[2]\n",
    "                      ])"
   ]
  },
  {
   "cell_type": "code",
   "execution_count": 7,
   "metadata": {
    "collapsed": true
   },
   "outputs": [],
   "source": [
    "params = {}\n",
    "\n",
    "#there should be paramRange^params columns so in our case len(paramRange)^nReac\n",
    "cols = len(rateRange)**2 # since we are only varying 2 rates\n",
    "\n",
    "params['c0'] = np.ones(cols)*c0\n",
    "params['c1'] = np.zeros(cols)\n",
    "params['c2'] = np.zeros(cols)\n",
    "params['c3'] = np.ones(cols)*c3\n",
    "params['c4'] = np.ones(cols)*c4\n",
    "params['c5'] = np.ones(cols)*c5\n",
    "params['c6'] = np.ones(cols)*c6\n",
    "\n",
    "keys = ['c0', 'c1', 'c2', 'c3', 'c4', 'c5', 'c6']"
   ]
  },
  {
   "cell_type": "code",
   "execution_count": 14,
   "metadata": {
    "collapsed": false
   },
   "outputs": [],
   "source": [
    "# set the varying kinetic rate constants for c1 and c2\n",
    "iter = 0\n",
    "for par in [1, 2]:\n",
    "    indStart = 0\n",
    "    while indStart < cols:\n",
    "        val = 0\n",
    "        while val < len(rateRange):\n",
    "            indEnd = indStart + len(rateRange)**(iter)\n",
    "            params[keys[par]][indStart:indEnd] = rateRange[val]\n",
    "            val += 1\n",
    "            indStart = indEnd\n",
    "    iter = iter + 1"
   ]
  },
  {
   "cell_type": "code",
   "execution_count": 19,
   "metadata": {
    "collapsed": false
   },
   "outputs": [
    {
     "name": "stdout",
     "output_type": "stream",
     "text": [
      "there are 2 real solutions for the steady state, redo the following analyis by switching the following code from RL[0] to RL[1] to see other solution\n",
      "the RLss is 1.18103798996\n"
     ]
    }
   ],
   "source": [
    "## determine RLss (set dRL/dt to 0 and solve for RL)\n",
    "RL = []\n",
    "RL.append(-(c5 + c4*(R0+L0)) + np.sqrt((c5 + c4*(R0+L0))**2 - 4*R0*L0*(c4)**2))\n",
    "RL.append(-(c5 + c4*(R0+L0)) - np.sqrt((c5 + c4*(R0+L0))**2 - 4*R0*L0*(c4)**2))\n",
    "RL = np.asarray(RL)/(-2*c4)\n",
    "if (RL.all() < 0):\n",
    "    print 'there are no real solutions for the steady state solution for RL'\n",
    "elif (RL[0] > 0 and RL[1] < 0):\n",
    "    print 'there is 1 solution for RLss: ' + str(RL[0])\n",
    "    RL = RL[0]\n",
    "elif (RL[0] < 0 and RL[1] > 0):\n",
    "    print 'there is 1 solution for RLss: ' + str(RL[1])\n",
    "    RL = RL[1]\n",
    "else:\n",
    "    print 'there are 2 real solutions for the steady state, redo the following analyis by switching the following code from RL[0] to RL[1] to see other solution'\n",
    "    RL = RL[0]\n",
    "    print 'the RLss is ' + str(RL)"
   ]
  },
  {
   "cell_type": "code",
   "execution_count": 30,
   "metadata": {
    "collapsed": false
   },
   "outputs": [
    {
     "name": "stdout",
     "output_type": "stream",
     "text": [
      "20 at index 0 of 400\n",
      "0.0 %\n",
      "7 at index 1 of 400\n",
      "4 at index 2 of 400\n",
      "4 at index 3 of 400\n",
      "3 at index 4 of 400\n",
      "3 at index 20 of 400\n",
      "10.0 %\n",
      "20.0 %\n",
      "30.0 %\n",
      "40.0 %\n",
      "50.0 %\n",
      "60.0 %\n",
      "70.0 %\n",
      "80.0 %\n",
      "90.0 %\n",
      "done\n"
     ]
    }
   ],
   "source": [
    "tol = 1\n",
    "Ktot = 1\n",
    "P = 0.25\n",
    "Kp = np.linspace(0,Ktot,float(n)/2)\n",
    "Kpp = np.linspace(0,Ktot,float(n)/2)\n",
    "\n",
    "diff = {}\n",
    "val = 0\n",
    "acc = []\n",
    "for iter in range(len(params['c0'])):\n",
    "    c0 = params['c0'][iter]\n",
    "    c1 = params['c1'][iter]\n",
    "    c2 = params['c2'][iter]\n",
    "    c3 = params['c3'][iter]\n",
    "    c4 = params['c4'][iter]\n",
    "    c5= params['c5'][iter]\n",
    "    c6 = params['c6'][iter]\n",
    "    #append to differential space\n",
    "    A = np.matrix(np.asarray([\n",
    "              -2*c1,     -2*c2,       c0,   -c6,       0,        0,      -2*c3,          0,\n",
    "               2*c1,   -c1 + 2*c2,   -c0,    c6,     -c2,       -c3,      2*c3,         2*c0,\n",
    "                  0,       c1,         0,     0,      c2,        c3,       0,          -2*c0       ]).reshape([3,8]))\n",
    "    #find individual kinase differentials\n",
    "    dk = np.ones(len(Kp)*len(Kpp)).reshape([len(Kpp), len(Kp)])*10\n",
    "    dkp = np.ones(len(Kp)*len(Kpp)).reshape([len(Kpp), len(Kp)])*10\n",
    "    dkpp = np.ones(len(Kp)*len(Kpp)).reshape([len(Kpp), len(Kp)])*10\n",
    "    k = []\n",
    "    for i in range(len(Kp)):\n",
    "        for j in range(len(Kpp)):\n",
    "            K = Ktot - Kp[i] - Kpp[j]\n",
    "            if K >= 0:\n",
    "                dk[i,j] = np.power(A.dot(np.asarray([K*K, Kp[i]*K, P*Kp[i], RL*K, Kp[i]*Kp[i], Kpp[j]*Kp[i], Kpp[j]*K, P*Kpp[j]]).reshape([8,1])),2)[0]\n",
    "                dkp[i,j] = np.power(A.dot(np.asarray([K*K, Kp[i]*K, P*Kp[i], RL*K, Kp[i]*Kp[i], Kpp[j]*Kp[i], Kpp[j]*K, P*Kpp[j]]).reshape([8,1])),2)[1]\n",
    "                dkpp[i,j] = np.power(A.dot(np.asarray([K*K, Kp[i]*K, P*Kp[i], RL*K, Kp[i]*Kp[i], Kpp[j]*Kp[i], Kpp[j]*K, P*Kpp[j]]).reshape([8,1])),2)[2]\n",
    "    grad = dk + dkp + dkpp\n",
    "    if (sum(sum(grad <= tol))>=3):\n",
    "        val = val + 1\n",
    "        print sum(sum(grad<=tol)), 'at index', iter, 'of', len(params['c0'])\n",
    "        diff[val] = {}\n",
    "        diff[val]['dk'] = dk\n",
    "        diff[val]['dkp'] = dkp\n",
    "        diff[val]['dkpp'] = dkpp\n",
    "        acc.append(iter)\n",
    "    if ((float(iter)/len(params['c0'])*100 % 10) == 0):\n",
    "        print float(iter)/len(params['c0'])*100, '%'\n",
    "        \n",
    "print 'done'"
   ]
  },
  {
   "cell_type": "code",
   "execution_count": 48,
   "metadata": {
    "collapsed": false
   },
   "outputs": [
    {
     "ename": "ValueError",
     "evalue": "The truth value of an array with more than one element is ambiguous. Use a.any() or a.all()",
     "output_type": "error",
     "traceback": [
      "\u001b[1;31m---------------------------------------------------------------------------\u001b[0m",
      "\u001b[1;31mValueError\u001b[0m                                Traceback (most recent call last)",
      "\u001b[1;32m<ipython-input-48-459777c6566c>\u001b[0m in \u001b[0;36m<module>\u001b[1;34m()\u001b[0m\n\u001b[0;32m      9\u001b[0m     \u001b[0mplt\u001b[0m\u001b[1;33m.\u001b[0m\u001b[0mimshow\u001b[0m\u001b[1;33m(\u001b[0m\u001b[0mnp\u001b[0m\u001b[1;33m.\u001b[0m\u001b[0mlog\u001b[0m\u001b[1;33m(\u001b[0m\u001b[0mdiff\u001b[0m\u001b[1;33m[\u001b[0m\u001b[0mi\u001b[0m\u001b[1;33m]\u001b[0m\u001b[1;33m[\u001b[0m\u001b[1;34m'dk'\u001b[0m\u001b[1;33m]\u001b[0m\u001b[1;33m+\u001b[0m\u001b[0mdiff\u001b[0m\u001b[1;33m[\u001b[0m\u001b[0mi\u001b[0m\u001b[1;33m]\u001b[0m\u001b[1;33m[\u001b[0m\u001b[1;34m'dkp'\u001b[0m\u001b[1;33m]\u001b[0m\u001b[1;33m+\u001b[0m\u001b[0mdiff\u001b[0m\u001b[1;33m[\u001b[0m\u001b[0mi\u001b[0m\u001b[1;33m]\u001b[0m\u001b[1;33m[\u001b[0m\u001b[1;34m'dkpp'\u001b[0m\u001b[1;33m]\u001b[0m\u001b[1;33m)\u001b[0m\u001b[1;33m,\u001b[0m \u001b[0mcmap\u001b[0m \u001b[1;33m=\u001b[0m \u001b[1;34m'bwr'\u001b[0m\u001b[1;33m,\u001b[0m \u001b[0morigin\u001b[0m \u001b[1;33m=\u001b[0m \u001b[1;34m'lower'\u001b[0m\u001b[1;33m)\u001b[0m\u001b[1;33m\u001b[0m\u001b[0m\n\u001b[0;32m     10\u001b[0m     \u001b[0max\u001b[0m\u001b[1;33m.\u001b[0m\u001b[0mset_title\u001b[0m\u001b[1;33m(\u001b[0m\u001b[1;34m', '\u001b[0m\u001b[1;33m.\u001b[0m\u001b[0mjoin\u001b[0m\u001b[1;33m(\u001b[0m\u001b[1;33m[\u001b[0m\u001b[1;34m'c1 = '\u001b[0m \u001b[1;33m+\u001b[0m \u001b[0mstr\u001b[0m\u001b[1;33m(\u001b[0m\u001b[0mparams\u001b[0m\u001b[1;33m[\u001b[0m\u001b[1;34m'c1'\u001b[0m\u001b[1;33m]\u001b[0m\u001b[1;33m[\u001b[0m\u001b[0macc\u001b[0m\u001b[1;33m[\u001b[0m\u001b[0mi\u001b[0m\u001b[1;33m-\u001b[0m\u001b[1;36m1\u001b[0m\u001b[1;33m]\u001b[0m\u001b[1;33m]\u001b[0m\u001b[1;33m)\u001b[0m\u001b[1;33m,\u001b[0m \u001b[1;34m'c2 = '\u001b[0m \u001b[1;33m+\u001b[0m \u001b[0mstr\u001b[0m\u001b[1;33m(\u001b[0m\u001b[0mparams\u001b[0m\u001b[1;33m[\u001b[0m\u001b[1;34m'c2'\u001b[0m\u001b[1;33m]\u001b[0m\u001b[1;33m[\u001b[0m\u001b[0macc\u001b[0m\u001b[1;33m[\u001b[0m\u001b[0mi\u001b[0m\u001b[1;33m-\u001b[0m\u001b[1;36m1\u001b[0m\u001b[1;33m]\u001b[0m\u001b[1;33m]\u001b[0m\u001b[1;33m)\u001b[0m\u001b[1;33m]\u001b[0m\u001b[1;33m)\u001b[0m\u001b[1;33m)\u001b[0m\u001b[1;33m\u001b[0m\u001b[0m\n\u001b[1;32m---> 11\u001b[1;33m     \u001b[0mplt\u001b[0m\u001b[1;33m.\u001b[0m\u001b[0mcolorbar\u001b[0m\u001b[1;33m(\u001b[0m\u001b[1;33m)\u001b[0m\u001b[1;33m\u001b[0m\u001b[0m\n\u001b[0m\u001b[0;32m     12\u001b[0m     \u001b[0mind\u001b[0m \u001b[1;33m=\u001b[0m \u001b[0mind\u001b[0m \u001b[1;33m+\u001b[0m \u001b[1;36m1\u001b[0m\u001b[1;33m\u001b[0m\u001b[0m\n\u001b[0;32m     13\u001b[0m     \u001b[0mplt\u001b[0m\u001b[1;33m.\u001b[0m\u001b[0mshow\u001b[0m\u001b[1;33m(\u001b[0m\u001b[1;33m)\u001b[0m\u001b[1;33m\u001b[0m\u001b[0m\n",
      "\u001b[1;32m/usr/lib/pymodules/python2.7/matplotlib/pyplot.pyc\u001b[0m in \u001b[0;36mcolorbar\u001b[1;34m(mappable, cax, ax, **kw)\u001b[0m\n\u001b[0;32m   1692\u001b[0m         \u001b[0max\u001b[0m \u001b[1;33m=\u001b[0m \u001b[0mgca\u001b[0m\u001b[1;33m(\u001b[0m\u001b[1;33m)\u001b[0m\u001b[1;33m\u001b[0m\u001b[0m\n\u001b[0;32m   1693\u001b[0m \u001b[1;33m\u001b[0m\u001b[0m\n\u001b[1;32m-> 1694\u001b[1;33m     \u001b[0mret\u001b[0m \u001b[1;33m=\u001b[0m \u001b[0mgcf\u001b[0m\u001b[1;33m(\u001b[0m\u001b[1;33m)\u001b[0m\u001b[1;33m.\u001b[0m\u001b[0mcolorbar\u001b[0m\u001b[1;33m(\u001b[0m\u001b[0mmappable\u001b[0m\u001b[1;33m,\u001b[0m \u001b[0mcax\u001b[0m \u001b[1;33m=\u001b[0m \u001b[0mcax\u001b[0m\u001b[1;33m,\u001b[0m \u001b[0max\u001b[0m\u001b[1;33m=\u001b[0m\u001b[0max\u001b[0m\u001b[1;33m,\u001b[0m \u001b[1;33m**\u001b[0m\u001b[0mkw\u001b[0m\u001b[1;33m)\u001b[0m\u001b[1;33m\u001b[0m\u001b[0m\n\u001b[0m\u001b[0;32m   1695\u001b[0m     \u001b[0mdraw_if_interactive\u001b[0m\u001b[1;33m(\u001b[0m\u001b[1;33m)\u001b[0m\u001b[1;33m\u001b[0m\u001b[0m\n\u001b[0;32m   1696\u001b[0m     \u001b[1;32mreturn\u001b[0m \u001b[0mret\u001b[0m\u001b[1;33m\u001b[0m\u001b[0m\n",
      "\u001b[1;32m/usr/lib/pymodules/python2.7/matplotlib/figure.pyc\u001b[0m in \u001b[0;36mcolorbar\u001b[1;34m(self, mappable, cax, ax, **kw)\u001b[0m\n\u001b[0;32m   1205\u001b[0m                 \u001b[0mcax\u001b[0m\u001b[1;33m,\u001b[0m \u001b[0mkw\u001b[0m \u001b[1;33m=\u001b[0m \u001b[0mcbar\u001b[0m\u001b[1;33m.\u001b[0m\u001b[0mmake_axes_gridspec\u001b[0m\u001b[1;33m(\u001b[0m\u001b[0max\u001b[0m\u001b[1;33m,\u001b[0m \u001b[1;33m**\u001b[0m\u001b[0mkw\u001b[0m\u001b[1;33m)\u001b[0m\u001b[1;33m\u001b[0m\u001b[0m\n\u001b[0;32m   1206\u001b[0m             \u001b[1;32melse\u001b[0m\u001b[1;33m:\u001b[0m\u001b[1;33m\u001b[0m\u001b[0m\n\u001b[1;32m-> 1207\u001b[1;33m                 \u001b[0mcax\u001b[0m\u001b[1;33m,\u001b[0m \u001b[0mkw\u001b[0m \u001b[1;33m=\u001b[0m \u001b[0mcbar\u001b[0m\u001b[1;33m.\u001b[0m\u001b[0mmake_axes\u001b[0m\u001b[1;33m(\u001b[0m\u001b[0max\u001b[0m\u001b[1;33m,\u001b[0m \u001b[1;33m**\u001b[0m\u001b[0mkw\u001b[0m\u001b[1;33m)\u001b[0m\u001b[1;33m\u001b[0m\u001b[0m\n\u001b[0m\u001b[0;32m   1208\u001b[0m         \u001b[0mcax\u001b[0m\u001b[1;33m.\u001b[0m\u001b[0mhold\u001b[0m\u001b[1;33m(\u001b[0m\u001b[0mTrue\u001b[0m\u001b[1;33m)\u001b[0m\u001b[1;33m\u001b[0m\u001b[0m\n\u001b[0;32m   1209\u001b[0m         \u001b[0mcb\u001b[0m \u001b[1;33m=\u001b[0m \u001b[0mcbar\u001b[0m\u001b[1;33m.\u001b[0m\u001b[0mColorbar\u001b[0m\u001b[1;33m(\u001b[0m\u001b[0mcax\u001b[0m\u001b[1;33m,\u001b[0m \u001b[0mmappable\u001b[0m\u001b[1;33m,\u001b[0m \u001b[1;33m**\u001b[0m\u001b[0mkw\u001b[0m\u001b[1;33m)\u001b[0m\u001b[1;33m\u001b[0m\u001b[0m\n",
      "\u001b[1;32m/usr/lib/pymodules/python2.7/matplotlib/colorbar.pyc\u001b[0m in \u001b[0;36mmake_axes\u001b[1;34m(parent, **kw)\u001b[0m\n\u001b[0;32m    855\u001b[0m     \u001b[0mparent\u001b[0m\u001b[1;33m.\u001b[0m\u001b[0mset_anchor\u001b[0m\u001b[1;33m(\u001b[0m\u001b[0mpanchor\u001b[0m\u001b[1;33m)\u001b[0m\u001b[1;33m\u001b[0m\u001b[0m\n\u001b[0;32m    856\u001b[0m     \u001b[0mfig\u001b[0m \u001b[1;33m=\u001b[0m \u001b[0mparent\u001b[0m\u001b[1;33m.\u001b[0m\u001b[0mget_figure\u001b[0m\u001b[1;33m(\u001b[0m\u001b[1;33m)\u001b[0m\u001b[1;33m\u001b[0m\u001b[0m\n\u001b[1;32m--> 857\u001b[1;33m     \u001b[0mcax\u001b[0m \u001b[1;33m=\u001b[0m \u001b[0mfig\u001b[0m\u001b[1;33m.\u001b[0m\u001b[0madd_axes\u001b[0m\u001b[1;33m(\u001b[0m\u001b[0mpbcb\u001b[0m\u001b[1;33m)\u001b[0m\u001b[1;33m\u001b[0m\u001b[0m\n\u001b[0m\u001b[0;32m    858\u001b[0m     \u001b[0mcax\u001b[0m\u001b[1;33m.\u001b[0m\u001b[0mset_aspect\u001b[0m\u001b[1;33m(\u001b[0m\u001b[0maspect\u001b[0m\u001b[1;33m,\u001b[0m \u001b[0manchor\u001b[0m\u001b[1;33m=\u001b[0m\u001b[0manchor\u001b[0m\u001b[1;33m,\u001b[0m \u001b[0madjustable\u001b[0m\u001b[1;33m=\u001b[0m\u001b[1;34m'box'\u001b[0m\u001b[1;33m)\u001b[0m\u001b[1;33m\u001b[0m\u001b[0m\n\u001b[0;32m    859\u001b[0m     \u001b[1;32mreturn\u001b[0m \u001b[0mcax\u001b[0m\u001b[1;33m,\u001b[0m \u001b[0mkw\u001b[0m\u001b[1;33m\u001b[0m\u001b[0m\n",
      "\u001b[1;32m/usr/lib/pymodules/python2.7/matplotlib/figure.pyc\u001b[0m in \u001b[0;36madd_axes\u001b[1;34m(self, *args, **kwargs)\u001b[0m\n\u001b[0;32m    716\u001b[0m \u001b[1;33m\u001b[0m\u001b[0m\n\u001b[0;32m    717\u001b[0m         \u001b[0mself\u001b[0m\u001b[1;33m.\u001b[0m\u001b[0m_axstack\u001b[0m\u001b[1;33m.\u001b[0m\u001b[0madd\u001b[0m\u001b[1;33m(\u001b[0m\u001b[0mkey\u001b[0m\u001b[1;33m,\u001b[0m \u001b[0ma\u001b[0m\u001b[1;33m)\u001b[0m\u001b[1;33m\u001b[0m\u001b[0m\n\u001b[1;32m--> 718\u001b[1;33m         \u001b[0mself\u001b[0m\u001b[1;33m.\u001b[0m\u001b[0msca\u001b[0m\u001b[1;33m(\u001b[0m\u001b[0ma\u001b[0m\u001b[1;33m)\u001b[0m\u001b[1;33m\u001b[0m\u001b[0m\n\u001b[0m\u001b[0;32m    719\u001b[0m         \u001b[1;32mreturn\u001b[0m \u001b[0ma\u001b[0m\u001b[1;33m\u001b[0m\u001b[0m\n\u001b[0;32m    720\u001b[0m \u001b[1;33m\u001b[0m\u001b[0m\n",
      "\u001b[1;32m/usr/lib/pymodules/python2.7/matplotlib/figure.pyc\u001b[0m in \u001b[0;36msca\u001b[1;34m(self, a)\u001b[0m\n\u001b[0;32m   1068\u001b[0m     \u001b[1;32mdef\u001b[0m \u001b[0msca\u001b[0m\u001b[1;33m(\u001b[0m\u001b[0mself\u001b[0m\u001b[1;33m,\u001b[0m \u001b[0ma\u001b[0m\u001b[1;33m)\u001b[0m\u001b[1;33m:\u001b[0m\u001b[1;33m\u001b[0m\u001b[0m\n\u001b[0;32m   1069\u001b[0m         \u001b[1;34m'Set the current axes to be a and return a'\u001b[0m\u001b[1;33m\u001b[0m\u001b[0m\n\u001b[1;32m-> 1070\u001b[1;33m         \u001b[0mself\u001b[0m\u001b[1;33m.\u001b[0m\u001b[0m_axstack\u001b[0m\u001b[1;33m.\u001b[0m\u001b[0mbubble\u001b[0m\u001b[1;33m(\u001b[0m\u001b[0ma\u001b[0m\u001b[1;33m)\u001b[0m\u001b[1;33m\u001b[0m\u001b[0m\n\u001b[0m\u001b[0;32m   1071\u001b[0m         \u001b[1;32mfor\u001b[0m \u001b[0mfunc\u001b[0m \u001b[1;32min\u001b[0m \u001b[0mself\u001b[0m\u001b[1;33m.\u001b[0m\u001b[0m_axobservers\u001b[0m\u001b[1;33m:\u001b[0m \u001b[0mfunc\u001b[0m\u001b[1;33m(\u001b[0m\u001b[0mself\u001b[0m\u001b[1;33m)\u001b[0m\u001b[1;33m\u001b[0m\u001b[0m\n\u001b[0;32m   1072\u001b[0m         \u001b[1;32mreturn\u001b[0m \u001b[0ma\u001b[0m\u001b[1;33m\u001b[0m\u001b[0m\n",
      "\u001b[1;32m/usr/lib/pymodules/python2.7/matplotlib/figure.pyc\u001b[0m in \u001b[0;36mbubble\u001b[1;34m(self, a)\u001b[0m\n\u001b[0;32m     77\u001b[0m \u001b[1;33m\u001b[0m\u001b[0m\n\u001b[0;32m     78\u001b[0m     \u001b[1;32mdef\u001b[0m \u001b[0mbubble\u001b[0m\u001b[1;33m(\u001b[0m\u001b[0mself\u001b[0m\u001b[1;33m,\u001b[0m \u001b[0ma\u001b[0m\u001b[1;33m)\u001b[0m\u001b[1;33m:\u001b[0m\u001b[1;33m\u001b[0m\u001b[0m\n\u001b[1;32m---> 79\u001b[1;33m         \u001b[1;32mreturn\u001b[0m \u001b[0mStack\u001b[0m\u001b[1;33m.\u001b[0m\u001b[0mbubble\u001b[0m\u001b[1;33m(\u001b[0m\u001b[0mself\u001b[0m\u001b[1;33m,\u001b[0m \u001b[0mself\u001b[0m\u001b[1;33m.\u001b[0m\u001b[0m_entry_from_axes\u001b[0m\u001b[1;33m(\u001b[0m\u001b[0ma\u001b[0m\u001b[1;33m)\u001b[0m\u001b[1;33m)\u001b[0m\u001b[1;33m\u001b[0m\u001b[0m\n\u001b[0m\u001b[0;32m     80\u001b[0m \u001b[1;33m\u001b[0m\u001b[0m\n\u001b[0;32m     81\u001b[0m     \u001b[1;32mdef\u001b[0m \u001b[0madd\u001b[0m\u001b[1;33m(\u001b[0m\u001b[0mself\u001b[0m\u001b[1;33m,\u001b[0m \u001b[0mkey\u001b[0m\u001b[1;33m,\u001b[0m \u001b[0ma\u001b[0m\u001b[1;33m)\u001b[0m\u001b[1;33m:\u001b[0m\u001b[1;33m\u001b[0m\u001b[0m\n",
      "\u001b[1;32m/usr/lib/pymodules/python2.7/matplotlib/cbook.pyc\u001b[0m in \u001b[0;36mbubble\u001b[1;34m(self, o)\u001b[0m\n\u001b[0;32m   1207\u001b[0m         \"\"\"\n\u001b[0;32m   1208\u001b[0m \u001b[1;33m\u001b[0m\u001b[0m\n\u001b[1;32m-> 1209\u001b[1;33m         \u001b[1;32mif\u001b[0m \u001b[0mo\u001b[0m \u001b[1;32mnot\u001b[0m \u001b[1;32min\u001b[0m \u001b[0mself\u001b[0m\u001b[1;33m.\u001b[0m\u001b[0m_elements\u001b[0m\u001b[1;33m:\u001b[0m\u001b[1;33m\u001b[0m\u001b[0m\n\u001b[0m\u001b[0;32m   1210\u001b[0m             \u001b[1;32mraise\u001b[0m \u001b[0mValueError\u001b[0m\u001b[1;33m(\u001b[0m\u001b[1;34m'Unknown element o'\u001b[0m\u001b[1;33m)\u001b[0m\u001b[1;33m\u001b[0m\u001b[0m\n\u001b[0;32m   1211\u001b[0m         \u001b[0mold\u001b[0m \u001b[1;33m=\u001b[0m \u001b[0mself\u001b[0m\u001b[1;33m.\u001b[0m\u001b[0m_elements\u001b[0m\u001b[1;33m[\u001b[0m\u001b[1;33m:\u001b[0m\u001b[1;33m]\u001b[0m\u001b[1;33m\u001b[0m\u001b[0m\n",
      "\u001b[1;31mValueError\u001b[0m: The truth value of an array with more than one element is ambiguous. Use a.any() or a.all()"
     ]
    }
   ],
   "source": [
    "#plot accepted values\n",
    "fig = plt.figure(figsize=(20,10))\n",
    "ind = 1\n",
    "\n",
    "ncol = 2\n",
    "rows = np.ceil(float(len(acc))/ncol)\n",
    "for i in range(1,len(diff)+1):\n",
    "    ax = fig.add_subplot(rows,ncol,ind)\n",
    "    plt.imshow(np.log(diff[i]['dk']+diff[i]['dkp']+diff[i]['dkpp']), cmap = 'bwr', origin = 'lower')\n",
    "    ax.set_title(', '.join(['c1 = ' + str(params['c1'][acc[i-1]]), 'c2 = ' + str(params['c2'][acc[i-1]])]))\n",
    "    #plt.colorbar()\n",
    "    ind = ind + 1\n",
    "    \n",
    "plt.show()"
   ]
  },
  {
   "cell_type": "code",
   "execution_count": 34,
   "metadata": {
    "collapsed": false
   },
   "outputs": [],
   "source": [
    "### see if kp, kpp combinations close to stable solution converge to stable solution\n",
    "fig = plt.figure()\n",
    "S = 10\n",
    "\n",
    "N = 1000\n",
    "t = np.linspace(0,50, N)\n",
    "vals = 10\n",
    "\n",
    "inits = {}\n",
    "iter = 0\n",
    "Kp = np.linspace(0,1,5)\n",
    "Kpp = Kp\n",
    "for i in range(len(Kp)):\n",
    "    for j in range(len(Kpp)):\n",
    "        K = Ktot - Kp[i] - Kpp[j]\n",
    "        if K >= 0:\n",
    "            inits[iter] = [Ktot - Kp[i] - Kpp[j], Kp[i], Kpp[j]]\n",
    "            iter = iter + 1\n",
    "\n",
    "for iter in range(len(acc)):\n",
    "    ode = {}\n",
    "    for i in inits.keys():\n",
    "        y0 = inits[i]\n",
    "        paramsTemp = [params['c0'][acc[iter]], params['c1'][iter], params['c2'][acc[iter]], params['c3'][acc[iter]], params['c4'][acc[iter]], S, P]\n",
    "        odeTemp = snt.odeint(rates, y0,t, args = tuple(paramsTemp))\n",
    "        ode[i] = []\n",
    "        ode[i] = odeTemp\n",
    "    ax = fig.add_subplot(rows,ncol,iter+1)\n",
    "    for i in ode.keys():\n",
    "        for j in range(np.shape(ode[i])[1]):\n",
    "            plt.plot(t, ode[i][:,j][0:N])\n",
    "    ax.set_title(iter)\n",
    "\n",
    "\n",
    "plt.show()"
   ]
  },
  {
   "cell_type": "code",
   "execution_count": 153,
   "metadata": {
    "collapsed": false
   },
   "outputs": [
    {
     "name": "stdout",
     "output_type": "stream",
     "text": [
      "0.1 0.595918367347 0.01 3.5 3.5\n"
     ]
    },
    {
     "data": {
      "image/png": "[encoded data removed]",
      "text/plain": [
       "<matplotlib.figure.Figure at 0x11b0cf950>"
      ]
     },
     "metadata": {},
     "output_type": "display_data"
    }
   ],
   "source": [
    "T = 100\n",
    "att = 0\n",
    "\n",
    "print params['c0'][acc[att]], params['c1'][acc[att]], params['c2'][acc[att]], params['c3'][acc[att]], params['c4'][acc[att]]\n",
    "#initial concentrations\n",
    "s2 = 0\n",
    "s3 = .5*Ktot\n",
    "s4 = .5*Ktot\n",
    "\n",
    "V =1\n",
    "y0 = np.asarray([s2, s3, s4])/V #initial species concentration\n",
    "\n",
    "n = 100\n",
    "t = np.linspace(0,T,n)\n",
    "ode = snt.odeint(rates, y0,t, args = (params['c0'][acc[att]], params['c1'][acc[att]], params['c2'][acc[att]], params['c3'][acc[att]], params['c4'][acc[att]], S, P))\n",
    "\n",
    "#find dkpp/dt\n",
    "fig = plt.figure(figsize=(12,12))\n",
    "ax = fig.add_subplot(2,3,4)\n",
    "dkpp = np.diff(ode[:,2])/np.diff(t)\n",
    "ax.plot(ode[:,2][0:n-1],dkpp)\n",
    "ax.set_title('bistable solution with intesections')\n",
    "ax.set_xlabel('[kpp]')\n",
    "ax.set_ylabel('dkpp/dt')\n",
    "\n",
    "\n",
    "ax = fig.add_subplot(2,3,1)\n",
    "for i in range(len(y0)):\n",
    "    ax.plot(t, ode[:,i][0:n])\n",
    "ax.set_xlabel('t (s)')\n",
    "#plt.title(''.join(['[S] = ', str(c1)]))\n",
    "ax.set_ylabel('species concentration, mM')\n",
    "ax.legend(['K', 'Kp', 'Kpp'])\n",
    "ax.set_ylim([0,Ktot])\n",
    "\n",
    "# plot another solution\n",
    "#initial concentrations\n",
    "s2 = Ktot \n",
    "s3 = 0\n",
    "s4 = 0\n",
    "\n",
    "V =1\n",
    "y0 = np.asarray([s2, s3, s4])/V #initial species concentration\n",
    "\n",
    "n = 100\n",
    "t = np.linspace(0,T,n)\n",
    "ode = snt.odeint(rates, y0,t, args = (params['c0'][acc[att]], params['c1'][acc[att]], params['c2'][acc[att]], params['c3'][acc[att]], params['c4'][acc[att]], S, P))\n",
    "\n",
    "#find dkpp/dt\n",
    "ax = fig.add_subplot(2,3,5)\n",
    "dkpp = np.diff(ode[:,2])/np.diff(t)\n",
    "ax.plot(ode[:,2][0:n-1],dkpp)\n",
    "ax.set_title('bistable solution with intesections')\n",
    "ax.set_xlabel('[kpp]')\n",
    "ax.set_ylabel('dkpp/dt')\n",
    "\n",
    "\n",
    "ax = fig.add_subplot(2,3,2)\n",
    "for i in range(len(y0)):\n",
    "    ax.plot(t, ode[:,i][0:n])\n",
    "ax.set_xlabel('t (s)')\n",
    "#plt.title(''.join(['[S] = ', str(c1)]))\n",
    "ax.set_ylabel('species concentration, mM')\n",
    "ax.legend(['K', 'Kp', 'Kpp'])\n",
    "ax.set_ylim([0,Ktot])\n",
    "\n",
    "# plot another solution\n",
    "#initial concentrations\n",
    "s2 = .5*Ktot\n",
    "s3 = .5*Ktot \n",
    "s4 = 0\n",
    "\n",
    "V =1\n",
    "y0 = np.asarray([s2, s3, s4])/V #initial species concentration\n",
    "\n",
    "n = 100\n",
    "t = np.linspace(0,T,n)\n",
    "ode = snt.odeint(rates, y0,t, args = (params['c0'][acc[att]], params['c1'][acc[att]], params['c2'][acc[att]], params['c3'][acc[att]], params['c4'][acc[att]], S, P))\n",
    "\n",
    "#find dkpp/dt\n",
    "ax = fig.add_subplot(2,3,6)\n",
    "dkpp = np.diff(ode[:,2])/np.diff(t)\n",
    "ax.plot(ode[:,2][0:n-1],dkpp)\n",
    "ax.set_title('bistable solution with intesections')\n",
    "ax.set_xlabel('[kpp]')\n",
    "ax.set_ylabel('dkpp/dt')\n",
    "\n",
    "\n",
    "ax = fig.add_subplot(2,3,3)\n",
    "for i in range(len(y0)):\n",
    "    ax.plot(t, ode[:,i][0:n])\n",
    "ax.set_xlabel('t (s)')\n",
    "#plt.title(''.join(['[S] = ', str(c1)]))\n",
    "ax.set_ylabel('species concentration, mM')\n",
    "ax.legend(['K', 'Kp', 'Kpp'])\n",
    "ax.set_ylim([0,Ktot])\n",
    "\n",
    "\n",
    "plt.show()"
   ]
  },
  {
   "cell_type": "code",
   "execution_count": null,
   "metadata": {
    "collapsed": true
   },
   "outputs": [],
   "source": []
  }
 ],
 "metadata": {
  "kernelspec": {
   "display_name": "Python 2",
   "language": "python",
   "name": "python2"
  },
  "language_info": {
   "codemirror_mode": {
    "name": "ipython",
    "version": 2
   },
   "file_extension": ".py",
   "mimetype": "text/x-python",
   "name": "python",
   "nbconvert_exporter": "python",
   "pygments_lexer": "ipython2",
   "version": "2.7.3"
  }
 },
 "nbformat": 4,
 "nbformat_minor": 2
}
