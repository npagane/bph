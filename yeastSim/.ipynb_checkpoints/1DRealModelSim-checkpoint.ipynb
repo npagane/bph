{
 "cells": [
  {
   "cell_type": "markdown",
   "metadata": {
    "deletable": true,
    "editable": true
   },
   "source": [
    "# 1D CME simulation to determine cell polarization via a signalling pathway\n",
    "nicole pagane\n",
    "2/15/17"
   ]
  },
  {
   "cell_type": "markdown",
   "metadata": {
    "deletable": true,
    "editable": true
   },
   "source": [
    "### import necessary modules"
   ]
  },
  {
   "cell_type": "code",
   "execution_count": 19,
   "metadata": {
    "collapsed": false,
    "deletable": true,
    "editable": true
   },
   "outputs": [
    {
     "name": "stdout",
     "output_type": "stream",
     "text": [
      "Once deleted, variables cannot be recovered. Proceed (y/[n])? y\n"
     ]
    }
   ],
   "source": [
    "%reset\n",
    "import numpy as np\n",
    "import matplotlib.pyplot as plt\n",
    "import random\n",
    "import scipy.integrate as snt\n",
    "import scipy.stats as stats\n",
    "from scipy.optimize import curve_fit\n",
    "import os"
   ]
  },
  {
   "cell_type": "markdown",
   "metadata": {
    "deletable": true,
    "editable": true
   },
   "source": [
    "### parameters"
   ]
  },
  {
   "cell_type": "code",
   "execution_count": 20,
   "metadata": {
    "collapsed": true,
    "deletable": true,
    "editable": true
   },
   "outputs": [],
   "source": [
    "#radius of substrate (assume the kinase is of similar size)\n",
    "r = 1e-9 #m\n",
    "\n",
    "#one-dimensional length of lattice gradient\n",
    "L = 1.0e-3 #m\n",
    "\n",
    "#number of compartments **INCLUDING THE 2 CONSTANT BOUNDARY SUBVOLUMES AND 3 CENTRAL SUBVOLUMES OF THE CELL**\n",
    "K = 9\n",
    "\n",
    "#large number n for how many timesteps to use for plotting\n",
    "n = 100\n",
    "\n",
    "#sample space range for parameter scan of kinetic rate constants\n",
    "s0 = 0\n",
    "s1 = 20\n",
    "\n",
    "#original far left and far right compartment species numbers\n",
    "N = {}\n",
    "N['A'] = np.asarray([20, 100])\n",
    "\n",
    "#initial number of kinase molecules\n",
    "c2 = 100\n",
    "\n",
    "#initial number of singly phosphoylated kinase molecules\n",
    "c3 = 5\n",
    "\n",
    "#initial number of doubly phosphorylated kinase molecules\n",
    "c4 = 0\n",
    "\n",
    "# filename for parameter trials\n",
    "paramFile = \"parameterMatrix.dat\"\n",
    "odeFile = \"parameterTrial.dat\""
   ]
  },
  {
   "cell_type": "markdown",
   "metadata": {
    "deletable": true,
    "editable": true
   },
   "source": [
    "### setup for deterministic solution to cell signalling pathway "
   ]
  },
  {
   "cell_type": "code",
   "execution_count": 21,
   "metadata": {
    "collapsed": false,
    "deletable": true,
    "editable": true
   },
   "outputs": [],
   "source": [
    "## SPECIES ###\n",
    "# S    substrate                        (c1)\n",
    "# K    kinase                           (c2)\n",
    "# Kp   phosphorylated kinase            (c3)\n",
    "# Kpp  doubly phosphorlyated kinase     (c4)\n",
    "\n",
    "### EQUATIONS FOR CELL SIGNALLING ###\n",
    "# S + K -> S + Kp  (k1)\n",
    "#     K -> Kp      (k2)\n",
    "#    Kp -> K       (k3)\n",
    "#    Kp -> Kpp     (k4)\n",
    "#   Kpp -> Kp      (k5)\n",
    "nReac = 5\n",
    "\n",
    "\n",
    "# define intital values and parameters for the above kinetic rate laws\n",
    "# model the concentration of substrate as a linear gradient \n",
    "c1 = 0 # technically N['A'][0] is the correct initial concentration if looking at the boundary\n",
    "       # but lets assume 0 for the next right cell \n",
    "V = 1\n",
    "y0 = np.asarray([c1, c2, c3, c4])/V #initial species concentration\n",
    "\n",
    "params = {}\n",
    "paramRange = np.linspace(s0, s1, s1-s0+1)\n",
    "\n",
    "#there should be paramRange^params columns so in our case len(paramRange)^nReac\n",
    "cols = len(paramRange)**nReac\n",
    "\n",
    "params['k1'] = np.zeros(cols)\n",
    "params['k2'] = np.zeros(cols)\n",
    "params['k3'] = np.zeros(cols)\n",
    "params['k4'] = np.zeros(cols)\n",
    "params['k5'] = np.zeros(cols)\n",
    "\n",
    "ti = 0\n",
    "tf = 10\n",
    "t = np.linspace(ti, tf, n)"
   ]
  },
  {
   "cell_type": "markdown",
   "metadata": {
    "deletable": true,
    "editable": true
   },
   "source": [
    "### parameter scan setup"
   ]
  },
  {
   "cell_type": "code",
   "execution_count": 22,
   "metadata": {
    "collapsed": false,
    "deletable": true,
    "editable": true
   },
   "outputs": [
    {
     "name": "stdout",
     "output_type": "stream",
     "text": [
      "the parameter permutations have already been created\n",
      "parameter file read in\n"
     ]
    }
   ],
   "source": [
    "# check to see if there are parameter files to avoid having to run the next section\n",
    "files = os.listdir(\".\")\n",
    "if paramFile not in files:\n",
    "    print(\"the parameter permutations have not been created\\nthis may take a bit of time dependent on the given parameter range\")\n",
    "    runPerm = True\n",
    "else:\n",
    "    print('the parameter permutations have already been created')\n",
    "    runPerm = False\n",
    "    FID = open(paramFile, 'r')\n",
    "    data = FID.readlines()\n",
    "    for i in range(len(data)):\n",
    "        data[i] = data[i].strip()\n",
    "        data[i] = data[i].split()\n",
    "        for j in range(len(params.keys())):\n",
    "            params[params.keys()[j]][i] = float(data[i][j])\n",
    "    #close file now that data has been read in\n",
    "    FID.close()\n",
    "    print('parameter file read in')\n",
    "        "
   ]
  },
  {
   "cell_type": "code",
   "execution_count": 23,
   "metadata": {
    "collapsed": false,
    "deletable": true,
    "editable": true
   },
   "outputs": [],
   "source": [
    "# the first parameter is the longest to set up \n",
    "# time improves for each successive parameter\n",
    "if runPerm == True:\n",
    "    for par in range(len(params.keys())):\n",
    "        indStart = 0\n",
    "        while indStart < cols:\n",
    "            val = 0\n",
    "            while val < len(paramRange):\n",
    "                indEnd = indStart + len(paramRange)**(par) + 1\n",
    "                params[params.keys()[par]][indStart:indEnd] = paramRange[val]\n",
    "                val += 1\n",
    "                indStart = indEnd \n",
    "        print(float(par+1)/len(params.keys()))\n",
    "    #save permutations file to avoid having to run the above code more than once\n",
    "    print('writing parameters to file to avoid having to run again')\n",
    "    FID = open(paramFile, 'w')\n",
    "    for i in range(len(params['k1'])):\n",
    "        line = [];\n",
    "        for j in range(len(params.keys())):\n",
    "            line.append(str(params[params.keys()[j]][i]))\n",
    "        FID.write(' '.join(line))\n",
    "        FID.write('\\n')\n",
    "    #close file now that data has been read in\n",
    "    FID.close()\n"
   ]
  },
  {
   "cell_type": "markdown",
   "metadata": {
    "deletable": true,
    "editable": true
   },
   "source": [
    "### test the parameter combinations to find acceptable range"
   ]
  },
  {
   "cell_type": "code",
   "execution_count": 24,
   "metadata": {
    "collapsed": false,
    "deletable": true,
    "editable": true
   },
   "outputs": [
    {
     "ename": "KeyboardInterrupt",
     "evalue": "",
     "output_type": "error",
     "traceback": [
      "\u001b[0;31m---------------------------------------------------------------------------\u001b[0m",
      "\u001b[0;31mKeyboardInterrupt\u001b[0m                         Traceback (most recent call last)",
      "\u001b[0;32m<ipython-input-24-d5fe8b479bbc>\u001b[0m in \u001b[0;36m<module>\u001b[0;34m()\u001b[0m\n\u001b[1;32m     15\u001b[0m                       k4*y[2] -  k5*y[3]])\n\u001b[1;32m     16\u001b[0m     \u001b[0;31m#solve the ODES\u001b[0m\u001b[0;34m\u001b[0m\u001b[0;34m\u001b[0m\u001b[0m\n\u001b[0;32m---> 17\u001b[0;31m     \u001b[0mode\u001b[0m \u001b[0;34m=\u001b[0m \u001b[0msnt\u001b[0m\u001b[0;34m.\u001b[0m\u001b[0modeint\u001b[0m\u001b[0;34m(\u001b[0m\u001b[0mrates\u001b[0m\u001b[0;34m,\u001b[0m \u001b[0my0\u001b[0m\u001b[0;34m,\u001b[0m\u001b[0mt\u001b[0m\u001b[0;34m)\u001b[0m\u001b[0;34m\u001b[0m\u001b[0m\n\u001b[0m\u001b[1;32m     18\u001b[0m     \u001b[0modeTrials\u001b[0m\u001b[0;34m[\u001b[0m\u001b[0mi\u001b[0m\u001b[0;34m]\u001b[0m \u001b[0;34m=\u001b[0m \u001b[0mode\u001b[0m\u001b[0;34m\u001b[0m\u001b[0m\n\u001b[1;32m     19\u001b[0m \u001b[0;34m\u001b[0m\u001b[0m\n",
      "\u001b[0;32m/usr/lib/python2.7/dist-packages/scipy/integrate/odepack.pyc\u001b[0m in \u001b[0;36modeint\u001b[0;34m(func, y0, t, args, Dfun, col_deriv, full_output, ml, mu, rtol, atol, tcrit, h0, hmax, hmin, ixpr, mxstep, mxhnil, mxordn, mxords, printmessg)\u001b[0m\n\u001b[1;32m    213\u001b[0m     output = _odepack.odeint(func, y0, t, args, Dfun, col_deriv, ml, mu,\n\u001b[1;32m    214\u001b[0m                              \u001b[0mfull_output\u001b[0m\u001b[0;34m,\u001b[0m \u001b[0mrtol\u001b[0m\u001b[0;34m,\u001b[0m \u001b[0matol\u001b[0m\u001b[0;34m,\u001b[0m \u001b[0mtcrit\u001b[0m\u001b[0;34m,\u001b[0m \u001b[0mh0\u001b[0m\u001b[0;34m,\u001b[0m \u001b[0mhmax\u001b[0m\u001b[0;34m,\u001b[0m \u001b[0mhmin\u001b[0m\u001b[0;34m,\u001b[0m\u001b[0;34m\u001b[0m\u001b[0m\n\u001b[0;32m--> 215\u001b[0;31m                              ixpr, mxstep, mxhnil, mxordn, mxords)\n\u001b[0m\u001b[1;32m    216\u001b[0m     \u001b[0;32mif\u001b[0m \u001b[0moutput\u001b[0m\u001b[0;34m[\u001b[0m\u001b[0;34m-\u001b[0m\u001b[0;36m1\u001b[0m\u001b[0;34m]\u001b[0m \u001b[0;34m<\u001b[0m \u001b[0;36m0\u001b[0m\u001b[0;34m:\u001b[0m\u001b[0;34m\u001b[0m\u001b[0m\n\u001b[1;32m    217\u001b[0m         \u001b[0mwarning_msg\u001b[0m \u001b[0;34m=\u001b[0m \u001b[0m_msgs\u001b[0m\u001b[0;34m[\u001b[0m\u001b[0moutput\u001b[0m\u001b[0;34m[\u001b[0m\u001b[0;34m-\u001b[0m\u001b[0;36m1\u001b[0m\u001b[0;34m]\u001b[0m\u001b[0;34m]\u001b[0m \u001b[0;34m+\u001b[0m \u001b[0;34m\" Run with full_output = 1 to get quantitative information.\"\u001b[0m\u001b[0;34m\u001b[0m\u001b[0m\n",
      "\u001b[0;32m<ipython-input-24-d5fe8b479bbc>\u001b[0m in \u001b[0;36mrates\u001b[0;34m(y, t)\u001b[0m\n\u001b[1;32m      9\u001b[0m     \u001b[0mk5\u001b[0m \u001b[0;34m=\u001b[0m \u001b[0mparams\u001b[0m\u001b[0;34m[\u001b[0m\u001b[0;34m'k4'\u001b[0m\u001b[0;34m]\u001b[0m\u001b[0;34m[\u001b[0m\u001b[0mi\u001b[0m\u001b[0;34m]\u001b[0m\u001b[0;34m\u001b[0m\u001b[0m\n\u001b[1;32m     10\u001b[0m     \u001b[0;31m# define rates equations\u001b[0m\u001b[0;34m\u001b[0m\u001b[0;34m\u001b[0m\u001b[0m\n\u001b[0;32m---> 11\u001b[0;31m     \u001b[0;32mdef\u001b[0m \u001b[0mrates\u001b[0m\u001b[0;34m(\u001b[0m\u001b[0my\u001b[0m\u001b[0;34m,\u001b[0m \u001b[0mt\u001b[0m\u001b[0;34m)\u001b[0m\u001b[0;34m:\u001b[0m\u001b[0;34m\u001b[0m\u001b[0m\n\u001b[0m\u001b[1;32m     12\u001b[0m         return np.asarray([c1 + (N['A'][1] - N['A'][0])*(L/(K-2))/L, \n\u001b[1;32m     13\u001b[0m                       \u001b[0;34m-\u001b[0m\u001b[0mk1\u001b[0m\u001b[0;34m*\u001b[0m\u001b[0my\u001b[0m\u001b[0;34m[\u001b[0m\u001b[0;36m0\u001b[0m\u001b[0;34m]\u001b[0m\u001b[0;34m*\u001b[0m\u001b[0my\u001b[0m\u001b[0;34m[\u001b[0m\u001b[0;36m1\u001b[0m\u001b[0;34m]\u001b[0m \u001b[0;34m-\u001b[0m \u001b[0mk2\u001b[0m\u001b[0;34m*\u001b[0m\u001b[0my\u001b[0m\u001b[0;34m[\u001b[0m\u001b[0;36m1\u001b[0m\u001b[0;34m]\u001b[0m \u001b[0;34m+\u001b[0m \u001b[0mk3\u001b[0m\u001b[0;34m*\u001b[0m\u001b[0my\u001b[0m\u001b[0;34m[\u001b[0m\u001b[0;36m2\u001b[0m\u001b[0;34m]\u001b[0m\u001b[0;34m,\u001b[0m\u001b[0;34m\u001b[0m\u001b[0m\n",
      "\u001b[0;31mKeyboardInterrupt\u001b[0m: "
     ]
    }
   ],
   "source": [
    "# create a dictionay to hold ODE values for each parameter combination trial\n",
    "odeTrials = {}\n",
    "\n",
    "for i in range(len(params['k1'])):\n",
    "    k1 = params['k1'][i]\n",
    "    k2 = params['k2'][i]\n",
    "    k3 = params['k3'][i]\n",
    "    k4 = params['k4'][i]\n",
    "    k5 = params['k4'][i]\n",
    "    # define rates equations\n",
    "    def rates(y, t):\n",
    "        return np.asarray([c1 + (N['A'][1] - N['A'][0])*(L/(K-2))/L, \n",
    "                      -k1*y[0]*y[1] - k2*y[1] + k3*y[2],\n",
    "                      k1*y[0]*y[1] + k2*y[1] - k3*y[2] - k4*y[2] + k5*y[3],\n",
    "                      k4*y[2] -  k5*y[3]])\n",
    "    #solve the ODES\n",
    "    ode = snt.odeint(rates, y0,t)\n",
    "    odeTrials[i] = ode\n",
    "    "
   ]
  },
  {
   "cell_type": "markdown",
   "metadata": {
    "deletable": true,
    "editable": true
   },
   "source": [
    "### solve for model with given sets of parameters and plot"
   ]
  },
  {
   "cell_type": "code",
   "execution_count": 10,
   "metadata": {
    "collapsed": false,
    "deletable": true,
    "editable": true
   },
   "outputs": [
    {
     "ename": "NameError",
     "evalue": "global name 'k1' is not defined",
     "output_type": "error",
     "traceback": [
      "\u001b[0;31m---------------------------------------------------------------------------\u001b[0m",
      "\u001b[0;31mNameError\u001b[0m                                 Traceback (most recent call last)",
      "\u001b[0;32m<ipython-input-10-02e4a7ad4910>\u001b[0m in \u001b[0;36m<module>\u001b[0;34m()\u001b[0m\n\u001b[1;32m      1\u001b[0m \u001b[0;31m# solve the ODEs\u001b[0m\u001b[0;34m\u001b[0m\u001b[0;34m\u001b[0m\u001b[0m\n\u001b[0;32m----> 2\u001b[0;31m \u001b[0mode\u001b[0m \u001b[0;34m=\u001b[0m \u001b[0msnt\u001b[0m\u001b[0;34m.\u001b[0m\u001b[0modeint\u001b[0m\u001b[0;34m(\u001b[0m\u001b[0mrates\u001b[0m\u001b[0;34m,\u001b[0m \u001b[0my0\u001b[0m\u001b[0;34m,\u001b[0m\u001b[0mt\u001b[0m\u001b[0;34m)\u001b[0m\u001b[0;34m\u001b[0m\u001b[0m\n\u001b[0m\u001b[1;32m      3\u001b[0m \u001b[0;34m\u001b[0m\u001b[0m\n\u001b[1;32m      4\u001b[0m \u001b[0;31m# plot species\u001b[0m\u001b[0;34m\u001b[0m\u001b[0;34m\u001b[0m\u001b[0m\n\u001b[1;32m      5\u001b[0m \u001b[0mfig\u001b[0m \u001b[0;34m=\u001b[0m \u001b[0mplt\u001b[0m\u001b[0;34m.\u001b[0m\u001b[0mfigure\u001b[0m\u001b[0;34m(\u001b[0m\u001b[0mfigsize\u001b[0m\u001b[0;34m=\u001b[0m\u001b[0;34m(\u001b[0m\u001b[0;36m12\u001b[0m\u001b[0;34m,\u001b[0m\u001b[0;36m6\u001b[0m\u001b[0;34m)\u001b[0m\u001b[0;34m)\u001b[0m\u001b[0;34m\u001b[0m\u001b[0m\n",
      "\u001b[0;32m/usr/lib/python2.7/dist-packages/scipy/integrate/odepack.pyc\u001b[0m in \u001b[0;36modeint\u001b[0;34m(func, y0, t, args, Dfun, col_deriv, full_output, ml, mu, rtol, atol, tcrit, h0, hmax, hmin, ixpr, mxstep, mxhnil, mxordn, mxords, printmessg)\u001b[0m\n\u001b[1;32m    213\u001b[0m     output = _odepack.odeint(func, y0, t, args, Dfun, col_deriv, ml, mu,\n\u001b[1;32m    214\u001b[0m                              \u001b[0mfull_output\u001b[0m\u001b[0;34m,\u001b[0m \u001b[0mrtol\u001b[0m\u001b[0;34m,\u001b[0m \u001b[0matol\u001b[0m\u001b[0;34m,\u001b[0m \u001b[0mtcrit\u001b[0m\u001b[0;34m,\u001b[0m \u001b[0mh0\u001b[0m\u001b[0;34m,\u001b[0m \u001b[0mhmax\u001b[0m\u001b[0;34m,\u001b[0m \u001b[0mhmin\u001b[0m\u001b[0;34m,\u001b[0m\u001b[0;34m\u001b[0m\u001b[0m\n\u001b[0;32m--> 215\u001b[0;31m                              ixpr, mxstep, mxhnil, mxordn, mxords)\n\u001b[0m\u001b[1;32m    216\u001b[0m     \u001b[0;32mif\u001b[0m \u001b[0moutput\u001b[0m\u001b[0;34m[\u001b[0m\u001b[0;34m-\u001b[0m\u001b[0;36m1\u001b[0m\u001b[0;34m]\u001b[0m \u001b[0;34m<\u001b[0m \u001b[0;36m0\u001b[0m\u001b[0;34m:\u001b[0m\u001b[0;34m\u001b[0m\u001b[0m\n\u001b[1;32m    217\u001b[0m         \u001b[0mwarning_msg\u001b[0m \u001b[0;34m=\u001b[0m \u001b[0m_msgs\u001b[0m\u001b[0;34m[\u001b[0m\u001b[0moutput\u001b[0m\u001b[0;34m[\u001b[0m\u001b[0;34m-\u001b[0m\u001b[0;36m1\u001b[0m\u001b[0;34m]\u001b[0m\u001b[0;34m]\u001b[0m \u001b[0;34m+\u001b[0m \u001b[0;34m\" Run with full_output = 1 to get quantitative information.\"\u001b[0m\u001b[0;34m\u001b[0m\u001b[0m\n",
      "\u001b[0;32m<ipython-input-8-84001350b93d>\u001b[0m in \u001b[0;36mrates\u001b[0;34m(y, t)\u001b[0m\n\u001b[1;32m     40\u001b[0m \u001b[0;32mdef\u001b[0m \u001b[0mrates\u001b[0m\u001b[0;34m(\u001b[0m\u001b[0my\u001b[0m\u001b[0;34m,\u001b[0m \u001b[0mt\u001b[0m\u001b[0;34m)\u001b[0m\u001b[0;34m:\u001b[0m\u001b[0;34m\u001b[0m\u001b[0m\n\u001b[1;32m     41\u001b[0m     return np.asarray([c1 + (N['A'][1] - N['A'][0])*(L/(K-2))/L, \n\u001b[0;32m---> 42\u001b[0;31m                       \u001b[0;34m-\u001b[0m\u001b[0mk1\u001b[0m\u001b[0;34m*\u001b[0m\u001b[0my\u001b[0m\u001b[0;34m[\u001b[0m\u001b[0;36m0\u001b[0m\u001b[0;34m]\u001b[0m\u001b[0;34m*\u001b[0m\u001b[0my\u001b[0m\u001b[0;34m[\u001b[0m\u001b[0;36m1\u001b[0m\u001b[0;34m]\u001b[0m \u001b[0;34m-\u001b[0m \u001b[0mk2\u001b[0m\u001b[0;34m*\u001b[0m\u001b[0my\u001b[0m\u001b[0;34m[\u001b[0m\u001b[0;36m1\u001b[0m\u001b[0;34m]\u001b[0m \u001b[0;34m+\u001b[0m \u001b[0mk3\u001b[0m\u001b[0;34m*\u001b[0m\u001b[0my\u001b[0m\u001b[0;34m[\u001b[0m\u001b[0;36m2\u001b[0m\u001b[0;34m]\u001b[0m\u001b[0;34m,\u001b[0m\u001b[0;34m\u001b[0m\u001b[0m\n\u001b[0m\u001b[1;32m     43\u001b[0m                       \u001b[0mk1\u001b[0m\u001b[0;34m*\u001b[0m\u001b[0my\u001b[0m\u001b[0;34m[\u001b[0m\u001b[0;36m0\u001b[0m\u001b[0;34m]\u001b[0m\u001b[0;34m*\u001b[0m\u001b[0my\u001b[0m\u001b[0;34m[\u001b[0m\u001b[0;36m1\u001b[0m\u001b[0;34m]\u001b[0m \u001b[0;34m+\u001b[0m \u001b[0mk2\u001b[0m\u001b[0;34m*\u001b[0m\u001b[0my\u001b[0m\u001b[0;34m[\u001b[0m\u001b[0;36m1\u001b[0m\u001b[0;34m]\u001b[0m \u001b[0;34m-\u001b[0m \u001b[0mk3\u001b[0m\u001b[0;34m*\u001b[0m\u001b[0my\u001b[0m\u001b[0;34m[\u001b[0m\u001b[0;36m2\u001b[0m\u001b[0;34m]\u001b[0m \u001b[0;34m-\u001b[0m \u001b[0mk4\u001b[0m\u001b[0;34m*\u001b[0m\u001b[0my\u001b[0m\u001b[0;34m[\u001b[0m\u001b[0;36m2\u001b[0m\u001b[0;34m]\u001b[0m \u001b[0;34m+\u001b[0m \u001b[0mk5\u001b[0m\u001b[0;34m*\u001b[0m\u001b[0my\u001b[0m\u001b[0;34m[\u001b[0m\u001b[0;36m3\u001b[0m\u001b[0;34m]\u001b[0m\u001b[0;34m,\u001b[0m\u001b[0;34m\u001b[0m\u001b[0m\n\u001b[1;32m     44\u001b[0m                       k4*y[2] -  k5*y[3]])\n",
      "\u001b[0;31mNameError\u001b[0m: global name 'k1' is not defined"
     ]
    }
   ],
   "source": [
    "# solve the ODEs\n",
    "ode = snt.odeint(rates, y0,t)\n",
    "\n",
    "# plot species\n",
    "fig = plt.figure(figsize=(12,6))\n",
    "ax = fig.add_subplot(1,2,1)\n",
    "for i in range(len(y0)):\n",
    "    ax.plot(t, ode[:,i][0:n])\n",
    "ax.set_xlabel('t (s)')\n",
    "#plt.title(''.join(['[S] = ', str(c1)]))\n",
    "ax.set_ylabel('species concentration, mM')\n",
    "ax.legend(['S', 'K', 'Kp', 'Kpp'])\n",
    "\n",
    "#zoom in \n",
    "ax = fig.add_subplot(1,2,2)\n",
    "tf = 10\n",
    "t = np.linspace(ti, tf, n)\n",
    "ode = snt.odeint(rates, y0,t)\n",
    "for i in range(len(y0)):\n",
    "    ax.plot(t, ode[:,i][0:n])\n",
    "ax.set_xlabel('t (s)')\n",
    "ax.set_title('zoomed in to see species fluctuations early on')\n",
    "ax.set_ylabel('species concentration')\n",
    "ax.legend(['S', 'K', 'Kp', 'Kpp'])\n",
    "ax.set_xlim([0,1])\n",
    "\n",
    "#find dkpp/dt\n",
    "fig = plt.figure(figsize=(12,6))\n",
    "ax = fig.add_subplot(1,2,1)\n",
    "dkpp = np.diff(ode[:,3])/np.diff(t)\n",
    "ax.plot(ode[:,3][0:n-1],dkpp)\n",
    "ax.set_title('bistable solution with intesections at 0')\n",
    "ax.set_xlabel('[kpp]')\n",
    "ax.set_ylabel('dkpp/dt')\n",
    "\n",
    "#plot two parameters against each other to determine bistable solution\n",
    "ax = fig.add_subplot(1,2,2)\n",
    "ax.plot(k2, k5, 'o')\n",
    "\n",
    "plt.show()"
   ]
  },
  {
   "cell_type": "code",
   "execution_count": 275,
   "metadata": {
    "collapsed": false,
    "deletable": true,
    "editable": true
   },
   "outputs": [
    {
     "data": {
      "image/png": "[encoded data removed]",
      "text/plain": [
       "<matplotlib.figure.Figure at 0x7f8148509650>"
      ]
     },
     "metadata": {},
     "output_type": "display_data"
    }
   ],
   "source": [
    "#plot fration of occupied phosphorylation sites to determine of parameters yield cooperativity \n",
    "# (sigmoidal as opposed to hyperbolic)\n",
    "fig = plt.figure(figsize=(12,6))\n",
    "ax = fig.add_subplot(1,2,1)\n",
    "ax.plot(ode[:,0], (ode[:,2] + 2*ode[:,3])/(2*(ode[:,1] + ode[:,2] + ode[:,3])))\n",
    "ax.set_ylabel('fration of occupied phosphorylation sites')\n",
    "ax.set_xlabel('[S]')\n",
    "ax = fig.add_subplot(1,2,2)\n",
    "ax.plot(ode[:,0], (ode[:,2] + 2*ode[:,3])/(2*(ode[:,1] + ode[:,2] + ode[:,3])))\n",
    "ax.set_ylabel('fration of occupied phosphorylation sites')\n",
    "ax.set_xlabel('[S]')\n",
    "plt.title('zoomed in')\n",
    "ax.set_xlim([0, 20])\n",
    "\n",
    "plt.show()"
   ]
  },
  {
   "cell_type": "code",
   "execution_count": 276,
   "metadata": {
    "collapsed": false,
    "deletable": true,
    "editable": true
   },
   "outputs": [
    {
     "name": "stderr",
     "output_type": "stream",
     "text": [
      "/usr/local/lib/python2.7/dist-packages/ipykernel/__main__.py:3: RuntimeWarning: divide by zero encountered in power\n",
      "  app.launch_new_instance()\n",
      "/usr/local/lib/python2.7/dist-packages/ipykernel/__main__.py:3: RuntimeWarning: invalid value encountered in divide\n",
      "  app.launch_new_instance()\n"
     ]
    },
    {
     "name": "stdout",
     "output_type": "stream",
     "text": [
      "Hill constant, n: 0.0892561170935\n",
      "Dissociation constant, kD: 0.570017248507\n"
     ]
    },
    {
     "data": {
      "image/png": "[encoded data removed]",
      "text/plain": [
       "<matplotlib.figure.Figure at 0x7f8146e69710>"
      ]
     },
     "metadata": {},
     "output_type": "display_data"
    }
   ],
   "source": [
    "# Hill equation\n",
    "def Hill(x, n , kD):\n",
    "    return (x**n)/(kD + x**n)\n",
    "\n",
    "popt, pcov = curve_fit(Hill, ode[:,0],(ode[:,2] + 2*ode[:,3])/(2*(ode[:,1] + ode[:,2] + ode[:,3])))\n",
    "plt.plot(ode[:,0],(ode[:,2] + 2*ode[:,3])/(2*(ode[:,1] + ode[:,2] + ode[:,3])), 'o', label='Data')\n",
    "plt.plot(ode[:,0],Hill(ode[:,0], popt[0], popt[1]), 'r-', label='Fit')\n",
    "plt.legend()\n",
    "print(''.join(['Hill constant, n: ', str(popt[0]), '\\n', 'Dissociation constant, kD: ', str(popt[1])]))\n",
    "plt.show()"
   ]
  },
  {
   "cell_type": "markdown",
   "metadata": {
    "collapsed": true,
    "deletable": true,
    "editable": true
   },
   "source": [
    "### same deterministic solution as above but now with new definition for autophosphorylation reactions\n",
    " new definition forces nonlinearity "
   ]
  },
  {
   "cell_type": "code",
   "execution_count": 231,
   "metadata": {
    "collapsed": false,
    "deletable": true,
    "editable": true
   },
   "outputs": [
    {
     "data": {
      "image/png": "[encoded data removed]",
      "text/plain": [
       "<matplotlib.figure.Figure at 0x7f8147d6f9d0>"
      ]
     },
     "metadata": {},
     "output_type": "display_data"
    },
    {
     "data": {
      "image/png": "[encoded data removed]",
      "text/plain": [
       "<matplotlib.figure.Figure at 0x7f8147b09c10>"
      ]
     },
     "metadata": {},
     "output_type": "display_data"
    }
   ],
   "source": [
    "## SPECIES ###\n",
    "# S    substrate                        (c1)\n",
    "# K    kinase                           (c2)\n",
    "# Kp   phosphorylated kinase            (c3)\n",
    "# Kpp  doubly phosphorlyated kinase     (c4)\n",
    "\n",
    "### EQUATIONS FOR CELL SIGNALLING ###\n",
    "# S + K -> S + Kp  (k1)\n",
    "# K + K -> Kp + K  (k2)\n",
    "# Kp+ K -> K + K   (k3)\n",
    "# Kp+Kp -> Kpp+Kp  (k4)\n",
    "# Kpp+Kp-> Kp+Kp   (k5)\n",
    "\n",
    "\n",
    "# define rates equations\n",
    "def rates(y, t):\n",
    "    return np.asarray([(N['A'][1] - N['A'][0])/tf, \n",
    "                      -k1*y[0]*y[1] - 2*k2*y[1]**2 + k2*y[1]**2 + 2*k3*y[2]*y[1] - k3*y[2]*y[1],\n",
    "                      k1*y[0]*y[1] + k2*y[1]**2 - k3*y[2]*y[1] - 2*k4*y[2]**2 + k4*y[2]**2 + 2*k5*y[3]*y[2] - k5*y[3]*y[2],\n",
    "                      k4*y[2]**2 -  k5*y[3]*y[2]])\n",
    "\n",
    "# solve the ODEs\n",
    "ode = snt.odeint(rates, y0,t)\n",
    "\n",
    "# plot species\n",
    "fig = plt.figure(figsize=(12,6))\n",
    "ax = fig.add_subplot(1,2,1)\n",
    "for i in range(len(y0)):\n",
    "    ax.plot(t, ode[:,i][0:n])\n",
    "ax.set_xlabel('t (s)')\n",
    "#plt.title(''.join(['[S] = ', str(c1)]))\n",
    "ax.set_ylabel('species concentration, mM')\n",
    "ax.legend(['S', 'K', 'Kp', 'Kpp'])\n",
    "\n",
    "#zoom in \n",
    "ax = fig.add_subplot(1,2,2)\n",
    "tf = 10\n",
    "t = np.linspace(ti, tf, n)\n",
    "ode = snt.odeint(rates, y0,t)\n",
    "for i in range(len(y0)):\n",
    "    ax.plot(t, ode[:,i][0:n])\n",
    "ax.set_xlabel('t (s)')\n",
    "ax.set_title('zoomed in to see species fluctuations early on')\n",
    "ax.set_ylabel('species concentration')\n",
    "ax.legend(['S', 'K', 'Kp', 'Kpp'])\n",
    "ax.set_xlim([0,1])\n",
    "\n",
    "#plot fration of occupied phosphorylation sites to determine of parameters yield cooperativity \n",
    "# (sigmoidal as opposed to hyperbolic)\n",
    "fig = plt.figure(figsize=(12,6))\n",
    "ax = fig.add_subplot(1,2,1)\n",
    "ax.plot(ode[:,0], (ode[:,2] + 2*ode[:,3])/(2*(ode[:,1] + ode[:,2] + ode[:,3])))\n",
    "ax.set_ylabel('fration of occupied phosphorylation sites')\n",
    "ax.set_xlabel('[S]')\n",
    "ax = fig.add_subplot(1,2,2)\n",
    "ax.plot(ode[:,0], (ode[:,2] + 2*ode[:,3])/(2*(ode[:,1] + ode[:,2] + ode[:,3])))\n",
    "ax.set_ylabel('fration of occupied phosphorylation sites')\n",
    "ax.set_xlabel('[S]')\n",
    "plt.title('zoomed in')\n",
    "ax.set_xlim([0, 20])\n",
    "\n",
    "plt.show()"
   ]
  },
  {
   "cell_type": "code",
   "execution_count": 233,
   "metadata": {
    "collapsed": false,
    "deletable": true,
    "editable": true
   },
   "outputs": [
    {
     "data": {
      "image/png": "[encoded data removed]",
      "text/plain": [
       "<matplotlib.figure.Figure at 0x7f81480a49d0>"
      ]
     },
     "metadata": {},
     "output_type": "display_data"
    }
   ],
   "source": [
    "#find dkpp/dt\n",
    "dkpp = np.diff(ode[:,3])/np.diff(t)\n",
    "plt.plot(ode[:,3][0:n-1],dkpp)\n",
    "plt.xlabel('[kpp]')\n",
    "plt.ylabel('dkpp/dt')\n",
    "plt.show()"
   ]
  },
  {
   "cell_type": "code",
   "execution_count": null,
   "metadata": {
    "collapsed": true,
    "deletable": true,
    "editable": true
   },
   "outputs": [],
   "source": []
  }
 ],
 "metadata": {
  "kernelspec": {
   "display_name": "Python 2",
   "language": "python",
   "name": "python2"
  },
  "language_info": {
   "codemirror_mode": {
    "name": "ipython",
    "version": 2
   },
   "file_extension": ".py",
   "mimetype": "text/x-python",
   "name": "python",
   "nbconvert_exporter": "python",
   "pygments_lexer": "ipython2",
   "version": "2.7.12"
  }
 },
 "nbformat": 4,
 "nbformat_minor": 2
}
